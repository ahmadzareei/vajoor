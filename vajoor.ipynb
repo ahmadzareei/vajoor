{
 "cells": [
  {
   "cell_type": "code",
   "execution_count": 10,
   "id": "0306cd89",
   "metadata": {},
   "outputs": [
    {
     "name": "stdout",
     "output_type": "stream",
     "text": [
      "542 تریان\n",
      "560 تیمار\n",
      "611 رمانی\n",
      "631 نوایر\n",
      "631 روانی\n",
      "643 ربانی\n",
      "643 برانی\n",
      "644 منابر\n",
      "656 نرمال\n",
      "661 بهیار\n",
      "661 بیراه\n",
      "663 ویران\n",
      "663 رویان\n",
      "680 تریاک\n",
      "681 مهوار\n",
      "681 میراب\n",
      "681 هموار\n",
      "681 بیمار\n",
      "686 نهاری\n",
      "686 مناره\n"
     ]
    }
   ],
   "source": [
    "import numpy as np\n",
    "\n",
    "with open('Moin_dictionary_words.txt') as f:\n",
    "    lines = f.readlines()\n",
    "\n",
    "lines = [x[:-1] for x in lines]\n",
    "\n",
    "words  = [x for x in lines if len(x)==5]\n",
    "\n",
    "from collections import defaultdict\n",
    "score = [0]*len(words)\n",
    "for j,w in enumerate(words):\n",
    "    category = defaultdict(int)\n",
    "    for w_inquiry in words:\n",
    "        key = ''\n",
    "        for i,ch in enumerate(w):\n",
    "            if ch not in w_inquiry:\n",
    "                key += 'K' # it's black\n",
    "            else:\n",
    "                if ch == w_inquiry[i]:\n",
    "                    key += 'G' # it should be green\n",
    "                else:\n",
    "                    key += 'Y' # then it's yellow\n",
    "        category[key] += 1\n",
    "    score[j] = max(category.values())    \n",
    "\n",
    "for idx in np.array(score).argsort()[:20]:\n",
    "    print(score[idx],words[idx])"
   ]
  },
  {
   "cell_type": "code",
   "execution_count": null,
   "id": "31731d07",
   "metadata": {},
   "outputs": [],
   "source": []
  }
 ],
 "metadata": {
  "kernelspec": {
   "display_name": "Python 3",
   "language": "python",
   "name": "python3"
  },
  "language_info": {
   "codemirror_mode": {
    "name": "ipython",
    "version": 3
   },
   "file_extension": ".py",
   "mimetype": "text/x-python",
   "name": "python",
   "nbconvert_exporter": "python",
   "pygments_lexer": "ipython3",
   "version": "3.6.13"
  }
 },
 "nbformat": 4,
 "nbformat_minor": 5
}
